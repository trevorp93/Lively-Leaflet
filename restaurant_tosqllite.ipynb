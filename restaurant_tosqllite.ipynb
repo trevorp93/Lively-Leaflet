{
 "cells": [
  {
   "cell_type": "code",
   "execution_count": 35,
   "metadata": {},
   "outputs": [],
   "source": [
    "import sqlalchemy\n",
    "from sqlalchemy import create_engine, MetaData\n",
    "from sqlalchemy.ext.declarative import declarative_base\n",
    "from sqlalchemy import Column, Integer, String, Numeric, Text, Float\n",
    "\n",
    "import pandas as pd\n",
    "import numpy as np\n",
    "import os\n",
    "\n",
    "engine = create_engine(\"sqlite:///restaurantdata.sqlite\")\n",
    "conn = engine.connect()\n",
    "\n",
    "csvfile = 'H:/learnpython/python/Yelp data/restaurants.csv'\n",
    "new_df = pd.read_csv(csvfile)"
   ]
  },
  {
   "cell_type": "code",
   "execution_count": 36,
   "metadata": {},
   "outputs": [],
   "source": [
    "Base = declarative_base()\n",
    "\n",
    "class Customer(Base):\n",
    "    __tablename__ = 'restaurants'\n",
    "    \n",
    "    businesses__id = Column(Text, primary_key=True)\n",
    "    businesses__name = Column(Text)\n",
    "    businesses__image_url = Column(Text)\n",
    "    businesses__is_closed = Column(Text)\n",
    "    businesses__url = Column(Text)\n",
    "    businesses__review_count = Column(Float)\n",
    "    businesses__categories__alias = Column(Text)\n",
    "    businesses__categories__title = Column(Text)\n",
    "    businesses__rating = Column(Float)\n",
    "    businesses__coordinates__latitude = Column(Float)\n",
    "    businesses__coordinates__longitude = Column(Float)\n",
    "    businesses__transactions__001 = Column(Text)\n",
    "    businesses__transactions__002 = Column(Text)\n",
    "    businesses__transactions__003 = Column(Text)\n",
    "    businesses__price = Column(Integer)\n",
    "    businesses__location__address1 = Column(Text)\n",
    "    businesses__location__address2 = Column(Text)\n",
    "    businesses__location__address3 = Column(Text)\n",
    "    businesses__location__city = Column(Text)\n",
    "    businesses__location__zip_code = Column(Integer)\n",
    "    businesses__location__country = Column(Text)\n",
    "    businesses__location__state = Column(Text)\n",
    "    businesses__location__display_address__001 = Column(Text)\n",
    "    businesses__location__display_address__002 = Column(Text)\n",
    "    businesses__location__display_address__003 = Column(Text)\n",
    "    businesses__phone = Column(Integer)\n",
    "    businesses__display_phone = Column(Text)\n",
    "    businesses__distance = Column(Float)\n",
    "    total = Column(Integer)\n",
    "    region__center__longitude = Column(Float)\n",
    "    region__center__latitude = Column(Float)\n"
   ]
  },
  {
   "cell_type": "code",
   "execution_count": 37,
   "metadata": {},
   "outputs": [],
   "source": [
    "Base.metadata.create_all(engine)\n",
    "data = new_df.to_dict(orient='records')\n",
    "metadata = MetaData(bind=engine)\n",
    "metadata.reflect()"
   ]
  },
  {
   "cell_type": "code",
   "execution_count": 38,
   "metadata": {},
   "outputs": [
    {
     "data": {
      "text/plain": [
       "<sqlalchemy.engine.result.ResultProxy at 0x2bba77f5048>"
      ]
     },
     "execution_count": 38,
     "metadata": {},
     "output_type": "execute_result"
    }
   ],
   "source": [
    "table = sqlalchemy.Table('restaurants', metadata, autoload=True)\n",
    "conn.execute(table.delete())\n",
    "conn.execute(table.insert(), data)"
   ]
  },
  {
   "cell_type": "code",
   "execution_count": 39,
   "metadata": {},
   "outputs": [
    {
     "data": {
      "text/plain": [
       "[('16758591', 'Toloache 50', None, None, 'https://www.zomato.com/new-york-city/toloache--gramercy?utm_source=api_basic_user&utm_medium=api&utm_campaign=v2.1', 375.0, None, 'Mexican', 4.1, 40.76218056, -73.98550278, None, None, None, '$$$$', '251 W 50th Street, New York 10019', None, None, None, None, None, None, None, None, None, None, None, None, None, None, None),\n",
       " ('16758697', '5 Burro CafÃ©', None, None, 'https://www.zomato.com/new-york-city/5-burro-cafÃ©-forest-hills?utm_source=api_basic_user&utm_medium=api&utm_campaign=v2.1', 330.0, None, 'Mexican', 4.3, 40.719369, -73.84230500000001, None, None, None, '$$$$', '7205 Austin Street, Queens 11375', None, None, None, None, None, None, None, None, None, None, None, None, None, None, None),\n",
       " ('16758999', \"Adrienne's Pizza Bar\", None, None, 'https://www.zomato.com/new-york-city/adriennes-pizza-bar-lower-manhattan?utm_source=api_basic_user&utm_medium=api&utm_campaign=v2.1', 537.0, None, 'Italian', 4.6, 40.704525, -74.01036111, None, None, None, '$$$', '54 Stone Street, New York 10004', None, None, None, None, None, None, None, None, None, None, None, None, None, None, None),\n",
       " ('16759326', 'Amma', None, None, 'https://www.zomato.com/new-york-city/amma-turtle-bay?utm_source=api_basic_user&utm_medium=api&utm_campaign=v2.1', 149.0, None, 'Indian', 3.8, 40.75570556, -73.96852222, None, None, None, '$$$$', '246 E 51st Street, New York 10022', None, None, None, None, None, None, None, None, None, None, None, None, None, None, None),\n",
       " ('16759669', 'Artisanal Fromagerie & Bistro', None, None, 'https://www.zomato.com/new-york-city/artisanal-fromagerie-bistro-gramercy?utm_source=api_basic_user&utm_medium=api&utm_campaign=v2.1', 588.0, None, 'French', 4.2, 40.742715999999994, -73.983962, None, None, None, '$$$$', '387 Park Avenue S, New York 10010', None, None, None, None, None, None, None, None, None, None, None, None, None, None, None)]"
      ]
     },
     "execution_count": 39,
     "metadata": {},
     "output_type": "execute_result"
    }
   ],
   "source": [
    "conn.execute(\"select * from restaurants limit 5\").fetchall()"
   ]
  },
  {
   "cell_type": "code",
   "execution_count": null,
   "metadata": {
    "collapsed": true
   },
   "outputs": [],
   "source": []
  }
 ],
 "metadata": {
  "kernelspec": {
   "display_name": "Python 3",
   "language": "python",
   "name": "python3"
  },
  "language_info": {
   "codemirror_mode": {
    "name": "ipython",
    "version": 3
   },
   "file_extension": ".py",
   "mimetype": "text/x-python",
   "name": "python",
   "nbconvert_exporter": "python",
   "pygments_lexer": "ipython3",
   "version": "3.6.3"
  }
 },
 "nbformat": 4,
 "nbformat_minor": 2
}
